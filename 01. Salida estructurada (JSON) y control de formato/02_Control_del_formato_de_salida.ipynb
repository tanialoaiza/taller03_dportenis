{
  "cells": [
    {
      "cell_type": "markdown",
      "metadata": {
        "id": "i4csUVuJuWpg"
      },
      "source": [
        "# **Control del formato de salida**\n",
        "En el desarrollo de aplicaciones que utilizan modelos de lenguaje, uno de los desafíos clave es garantizar que la salida generada sea estructurada, predecible y fácil de procesar. Para lograrlo, existen técnicas específicas que permiten controlar el formato de salida de manera precisa.\n",
        "\n",
        "Algunos de ellos son:\n",
        "* **Function Calling**\n",
        "* **Outlines**\n",
        "\n"
      ]
    },
    {
      "cell_type": "markdown",
      "metadata": {
        "id": "zU7-ca-QDRmV"
      },
      "source": [
        "### **Instalar e importar librerias**"
      ]
    },
    {
      "cell_type": "code",
      "execution_count": null,
      "metadata": {
        "id": "k0V8CuI4Rpao"
      },
      "outputs": [],
      "source": [
        "%pip install openai\n",
        "%pip install transformers torch\n",
        "from openai import OpenAI\n",
        "from google.colab import userdata\n",
        "from transformers import pipeline\n",
        "import json\n",
        "import re"
      ]
    },
    {
      "cell_type": "markdown",
      "metadata": {
        "id": "ZH8Jv0P2EO8I"
      },
      "source": [
        "### **Acceder a gemini**"
      ]
    },
    {
      "cell_type": "code",
      "execution_count": null,
      "metadata": {
        "id": "PPmkWU0nR9gh"
      },
      "outputs": [],
      "source": [
        "client = OpenAI(\n",
        "    api_key=userdata.get('GOOGLE_API_KEY'),\n",
        "    base_url=\"https://generativelanguage.googleapis.com/v1beta/openai/\"\n",
        ")\n",
        "\n",
        "texto = \"Alberto compró 3 tenis por 5000 pesos el 27 de Junio en Dportenis.\""
      ]
    },
    {
      "cell_type": "markdown",
      "metadata": {
        "id": "jhv_qmSSuaGY"
      },
      "source": [
        "## **Function Calling**\n",
        "\n",
        "**Function Calling** permite invocar funciones externas definidas por el usuario cuando detectan que la intención del mensaje requiere ejecutar una acción específica, en lugar de solo generar texto libre."
      ]
    },
    {
      "cell_type": "code",
      "execution_count": null,
      "metadata": {
        "id": "kJ5Q2bRQua9t"
      },
      "outputs": [],
      "source": [
        "tools = [\n",
        "    {\n",
        "        \"type\": \"function\",\n",
        "        \"function\": {\n",
        "            \"name\": \"extraccion_compra\",\n",
        "            \"description\": \"Extrae información de una compra desde una frase\",\n",
        "            \"parameters\": {\n",
        "                \"type\": \"object\",\n",
        "                \"properties\": {\n",
        "                    \"cliente\": { \"type\": \"string\" },\n",
        "                    \"producto\": {\n",
        "                        \"type\": \"array\",\n",
        "                        \"description\": \"Lista de productos adquiridos\",\n",
        "                        \"items\": {\n",
        "                            \"type\": \"object\",\n",
        "                            \"properties\": {\n",
        "                                \"nombre\": { \"type\": \"string\" },\n",
        "                                \"cantidad\": { \"type\": \"integer\" },\n",
        "                                \"precio_total\": { \"type\": \"number\" }\n",
        "                            },\n",
        "                            \"required\": [\"nombre\", \"cantidad\", \"precio_total\"]\n",
        "                        }\n",
        "                    },\n",
        "                    \"fecha\": { \"type\": \"string\" },\n",
        "                    \"lugar\": { \"type\": \"string\" }\n",
        "                },\n",
        "                \"required\": [\"cliente\", \"producto\", \"fecha\", \"lugar\"]\n",
        "            }\n",
        "        }\n",
        "    }\n",
        "]\n",
        "\n",
        "messages = [\n",
        "    {\"role\": \"user\", \"content\": texto}\n",
        "]\n",
        "\n",
        "response = client.chat.completions.create(\n",
        "    model=\"models/gemini-2.0-flash\",\n",
        "    messages=messages,\n",
        "    tools=tools,\n",
        "    tool_choice={\"type\": \"function\", \"function\": {\"name\": \"extraccion_compra\"}}\n",
        ")\n",
        "\n",
        "tool_response = response.choices[0].message.tool_calls[0].function.arguments\n",
        "\n",
        "print(tool_response)"
      ]
    },
    {
      "cell_type": "markdown",
      "metadata": {
        "id": "zPIT6DjYu3Pp"
      },
      "source": [
        "## **Outlines**\n",
        "\n",
        "\"**Outlines**\" son una representación estructurada y jerárquica de los elementos clave de un texto, que resume su contenido organizándolo en secciones, subtítulos, y/o categorías semánticas (como quién, qué, cuándo, dónde)."
      ]
    },
    {
      "cell_type": "code",
      "execution_count": null,
      "metadata": {
        "id": "JrxzSLJFfeAi"
      },
      "outputs": [],
      "source": [
        "ner_pipeline = pipeline(\"ner\", model=\"mrm8488/bert-spanish-cased-finetuned-ner\", grouped_entities=True)\n",
        "entidades = ner_pipeline(texto)\n",
        "print(entidades)"
      ]
    },
    {
      "cell_type": "code",
      "execution_count": null,
      "metadata": {
        "id": "zsBpyQvmHEfe"
      },
      "outputs": [],
      "source": [
        "outline = {\n",
        "    \"cliente\": None,\n",
        "    \"detalles\": {\n",
        "        \"productos\": [],\n",
        "        \"precio_total\": None,\n",
        "        \"fecha_compra\": None,\n",
        "        \"lugar_compra\": None\n",
        "    }\n",
        "}\n",
        "\n",
        "for entidad in entidades:\n",
        "    entidad_text = entidad['word'].strip()\n",
        "    entidad_type = entidad['entity_group']\n",
        "\n",
        "    if entidad_type == 'PER':\n",
        "        outline['cliente'] = entidad_text\n",
        "    elif entidad_type == 'LOC':\n",
        "        outline[\"detalles\"]['lugar_compra'] = entidad_text\n",
        "\n",
        "\n",
        "producto_match = re.search(r\"(\\d+)\\s+(\\w+)\\s+(\\w+)\\s+(\\w+)\\s+(\\w+)\", texto)\n",
        "\n",
        "if producto_match:\n",
        "    cantidad = int(producto_match.group(1))\n",
        "    tipo = producto_match.group(2)\n",
        "\n",
        "    producto = {\n",
        "        \"tipo\": tipo,\n",
        "        \"cantidad\": cantidad,\n",
        "        \"precio_unitario\": None\n",
        "    }\n",
        "\n",
        "    outline['detalles']['productos'].append(producto)\n",
        "\n",
        "precio = re.search(r\"\\b(\\d+)\\s*(pesos|mxn|USD|dólares?)\\b\", texto, re.IGNORECASE)\n",
        "if precio:\n",
        "    total = int(precio.group(1))\n",
        "    outline[\"detalles\"][\"precio_total\"] = total\n",
        "\n",
        "    if outline[\"detalles\"][\"productos\"]:\n",
        "        outline[\"detalles\"][\"productos\"][0][\"precio_unitario\"] = total // cantidad\n",
        "\n",
        "fecha = re.search(r\"el\\s([\\d]{1,2}\\s+de\\s+\\w+)\", texto, re.IGNORECASE)\n",
        "if fecha:\n",
        "    outline[\"detalles\"][\"fecha_compra\"] = fecha.group(1)\n",
        "\n",
        "output_json = json.dumps(outline, indent=2, ensure_ascii=False)\n",
        "print(output_json)"
      ]
    },
    {
      "cell_type": "markdown",
      "metadata": {
        "id": "kzAm6tR9d95j"
      },
      "source": [
        "## **Ejercicio 02**\n",
        "\n",
        "Sigue las siguientes instrucciones para generar un JSON puro utilizando la técnica **Function Calling**.\n",
        "\n",
        "**Texto**: El 27 de junio, Carlos Méndez visitó la sucursal de Dportenis Las Torres y realizó una compra especial. Adquirió 2 pares de tenis Puma Future Z, valorados en 1800 pesos cada uno, ideales para sus entrenamientos de fútbol. Además, compró una playera deportiva Under Armour DryFit por 900 pesos, perfecta para sus sesiones de gimnasio. En total, la compra ascendió a 4500 pesos.\n",
        "\n",
        "**Estructura de respuesta esperada**:\n",
        "```\n",
        "{\n",
        "  \"cliente\": \"string\",\n",
        "  \"detalles_compra\": {\n",
        "    \"productos\": [\n",
        "      {\n",
        "        \"tipo\": \"string\",\n",
        "        \"marca\": \"string\",\n",
        "        \"modelo\": \"string\",\n",
        "        \"cantidad\": \"number\",\n",
        "        \"precio_unitario\": \"number\"\n",
        "      }\n",
        "    ],\n",
        "    \"precio_total\": \"number\",\n",
        "    \"fecha_compra\": \"string\",\n",
        "    \"lugar_compra\": \"string\"\n",
        "  }\n",
        "}\n",
        "```\n"
      ]
    },
    {
      "cell_type": "code",
      "execution_count": null,
      "metadata": {
        "id": "q-koRCmUeAbJ"
      },
      "outputs": [],
      "source": [
        "#Escribe el texto de la instrucción\n",
        "texto = \"\"\n",
        "\n",
        "#Aplica una de las tecnicas anteriores...\n"
      ]
    }
  ],
  "metadata": {
    "colab": {
      "provenance": []
    },
    "kernelspec": {
      "display_name": "Python 3",
      "name": "python3"
    },
    "language_info": {
      "name": "python"
    }
  },
  "nbformat": 4,
  "nbformat_minor": 0
}