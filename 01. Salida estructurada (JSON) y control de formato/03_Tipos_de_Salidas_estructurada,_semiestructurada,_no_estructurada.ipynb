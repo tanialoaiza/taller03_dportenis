{
  "nbformat": 4,
  "nbformat_minor": 0,
  "metadata": {
    "colab": {
      "provenance": []
    },
    "kernelspec": {
      "name": "python3",
      "display_name": "Python 3"
    },
    "language_info": {
      "name": "python"
    }
  },
  "cells": [
    {
      "cell_type": "markdown",
      "source": [
        "# **Tipos de Salidas: no estructurada, semiestructurada, estructurada**\n",
        "Los modelos de lenguaje pueden producir distintos tipos de salida dependiendo del diseño del prompt, la técnica usada y el objetivo de uso. Es clave conocer sus diferencias para seleccionar el formato adecuado en proyectos de extracción de información, automatización o integración con sistemas."
      ],
      "metadata": {
        "id": "hXC_mC0EmQEo"
      }
    },
    {
      "cell_type": "markdown",
      "source": [
        "### **Instalar e importar librerias**"
      ],
      "metadata": {
        "id": "wAvQROpuD30V"
      }
    },
    {
      "cell_type": "code",
      "source": [
        "%pip install openai\n",
        "from openai import OpenAI\n",
        "from google.colab import userdata\n",
        "import json"
      ],
      "metadata": {
        "id": "G5wGuPh4D7Mx"
      },
      "execution_count": null,
      "outputs": []
    },
    {
      "cell_type": "markdown",
      "source": [
        "### **Acceder a gemini**"
      ],
      "metadata": {
        "id": "a-EQOO-kEHOc"
      }
    },
    {
      "cell_type": "code",
      "source": [
        "client = OpenAI(\n",
        "    api_key=userdata.get('GOOGLE_API_KEY'),\n",
        "    base_url=\"https://generativelanguage.googleapis.com/v1beta/openai/\"\n",
        ")\n",
        "\n",
        "texto = \"Alberto compró 3 tenis por 5000 pesos el 27 de Junio en Dportenis.\""
      ],
      "metadata": {
        "id": "4hOPX7hyEIMH"
      },
      "execution_count": null,
      "outputs": []
    },
    {
      "cell_type": "markdown",
      "source": [
        "##**Salida no estructurada**\n",
        "Es el tipo de salida más libre y natural. El modelo genera texto sin seguir una estructura fija: puede ser una explicación, un párrafo narrativo, una recomendación, etc."
      ],
      "metadata": {
        "id": "tIpEMrRiA9Qi"
      }
    },
    {
      "cell_type": "code",
      "source": [
        "message = [\n",
        "        {\n",
        "            \"role\": \"user\",\n",
        "            \"content\": (\n",
        "                f\"\"\"\n",
        "              Redacta un párrafo narrativo a partir de esta información:\n",
        "              {texto}\n",
        "\n",
        "              \"\"\"\n",
        "            )\n",
        "        }\n",
        "    ]\n",
        "\n",
        "response = client.chat.completions.create(\n",
        "  model=\"models/gemini-2.0-flash\",\n",
        "  messages=message)\n",
        "\n",
        "print(response.choices[0].message.content.strip())"
      ],
      "metadata": {
        "id": "VRFvdi7dCBj4"
      },
      "execution_count": null,
      "outputs": []
    },
    {
      "cell_type": "markdown",
      "source": [
        "##**Salida semiestructurada**\n",
        "El modelo sigue un formato parcialmente definido: usa etiquetas, listas o separadores comunes, pero sin cumplir una sintaxis formal como JSON. Es legible por humanos y algo más fácil de procesar que el texto libre."
      ],
      "metadata": {
        "id": "1odu3Q7_BEGd"
      }
    },
    {
      "cell_type": "code",
      "source": [
        "message = [\n",
        "        {\n",
        "            \"role\": \"user\",\n",
        "            \"content\": (\n",
        "                f\"\"\"\n",
        "              A partir de la siguiente información, genera una lista con etiquetas tipo ficha:\n",
        "              {texto}\n",
        "\n",
        "              \"\"\"\n",
        "            )\n",
        "        }\n",
        "    ]\n",
        "\n",
        "response = client.chat.completions.create(\n",
        "  model=\"models/gemini-2.0-flash\",\n",
        "  messages=message)\n",
        "\n",
        "print(response.choices[0].message.content.strip())"
      ],
      "metadata": {
        "id": "PCIIH1rnCCN0"
      },
      "execution_count": null,
      "outputs": []
    },
    {
      "cell_type": "markdown",
      "source": [
        "##**Salida estructurada**\n",
        "El modelo responde directamente en un formato rígido, cumpliendo con reglas específicas. Es ideal para ser consumida por sistemas automáticos o para integración con bases de datos, APIs, etc.\n",
        "\n"
      ],
      "metadata": {
        "id": "8ke-0srcBKdc"
      }
    },
    {
      "cell_type": "code",
      "source": [
        "message = [\n",
        "        {\n",
        "            \"role\": \"system\",\n",
        "            \"content\": (\n",
        "            \"Eres un asistente que responde *únicamente* con un objeto JSON plano. \"\n",
        "            \"No uses ningún bloque de markdown como ```json o ```; \"\n",
        "            \"responde solo con el JSON en texto plano sin comillas envolventes, sin explicación ni formato adicional. \"\n",
        "            \"Solo el objeto JSON puro.\\n\\n\"\n",
        "            \"La respuesta debe tener esta estructura EXACTA:\\n\"\n",
        "            \"{\\n\"\n",
        "            '  \"cliente\": \"string\",\\n'\n",
        "            '  \"producto\": \"string\",\\n'\n",
        "            '  \"cantidad\": number,\\n'\n",
        "            '  \"precio_total\": number,\\n'\n",
        "            '  \"fecha\": \"string\",\\n'\n",
        "            '  \"lugar\": \"string\"\\n'\n",
        "            \"}\\n\\n\"\n",
        "            \"Solo devuelve este JSON con los valores extraídos del texto dado.\"\n",
        "            )\n",
        "        },\n",
        "        {\n",
        "            \"role\": \"user\",\n",
        "            \"content\": (\n",
        "                f\"\"\"\n",
        "              Dame la información estructurada de esta persona en formato JSON\n",
        "\n",
        "              Texto: {texto}\n",
        "\n",
        "              \"\"\"\n",
        "            )\n",
        "        }\n",
        "    ]\n",
        "\n",
        "response = client.chat.completions.create(\n",
        "  model=\"models/gemini-2.0-flash\",\n",
        "  messages=message)\n",
        "\n",
        "print(response.choices[0].message.content.strip())"
      ],
      "metadata": {
        "id": "v0umF4VnCCrl"
      },
      "execution_count": null,
      "outputs": []
    }
  ]
}