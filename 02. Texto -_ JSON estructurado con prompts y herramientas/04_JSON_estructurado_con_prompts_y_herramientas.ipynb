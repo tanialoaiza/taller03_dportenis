{
  "nbformat": 4,
  "nbformat_minor": 0,
  "metadata": {
    "colab": {
      "provenance": []
    },
    "kernelspec": {
      "name": "python3",
      "display_name": "Python 3"
    },
    "language_info": {
      "name": "python"
    }
  },
  "cells": [
    {
      "cell_type": "markdown",
      "source": [
        "#**JSON estructurado con prompts y herramientas**"
      ],
      "metadata": {
        "id": "9mJJ2HRXNrgB"
      }
    },
    {
      "cell_type": "markdown",
      "source": [
        "### **Instalar e importar librerias**"
      ],
      "metadata": {
        "id": "zzBb8CbnNebw"
      }
    },
    {
      "cell_type": "code",
      "source": [
        "%pip install openai\n",
        "%pip install spacy\n",
        "%pip install openai pydantic\n",
        "\n",
        "from openai import OpenAI\n",
        "from google import genai\n",
        "from google.colab import userdata\n",
        "import json\n",
        "import spacy\n",
        "import re\n",
        "from datetime import datetime\n",
        "from pydantic import BaseModel, Field\n",
        "from typing import List, Literal"
      ],
      "metadata": {
        "id": "-d9qNqH9NWWR"
      },
      "execution_count": null,
      "outputs": []
    },
    {
      "cell_type": "markdown",
      "source": [
        "### **Acceder a gemini**"
      ],
      "metadata": {
        "id": "w77VU_RoNe5R"
      }
    },
    {
      "cell_type": "code",
      "source": [
        "client = OpenAI(\n",
        "    api_key=userdata.get('GOOGLE_API_KEY'),\n",
        "    base_url=\"https://generativelanguage.googleapis.com/v1beta/openai/\"\n",
        ")\n",
        "\n",
        "texto = \"Alberto compró 3 tenis por 5000 pesos el 27 de Junio en Dportenis.\""
      ],
      "metadata": {
        "id": "DoQ7NcIINWu_"
      },
      "execution_count": null,
      "outputs": []
    },
    {
      "cell_type": "markdown",
      "source": [
        "##**Named Entity Recognition (NER)**\n",
        "**NER** es una tarea fundamental del Procesamiento de Lenguaje Natural (NLP) que consiste en identificar y clasificar \"entidades nombradas\" en un texto en categorías predefinidas como nombres de personas, organizaciones, ubicaciones, fechas, cantidades, etc.\n",
        "\n",
        "**Tipos de entidades más comunes**\n",
        "* Personas\n",
        "* Organizaciones\n",
        "* Ubicaciones\n",
        "* Fechas y horas\n",
        "* Cantidades\n",
        "* Productos\n",
        "* Eventos\n",
        "* Otros: enfermedades, leyes, obras artísticas, hashtags, etc.\n",
        "\n",
        "**Ventajas**\n",
        "* Extraccion precisa\n",
        "* Multilingüe\n",
        "* Zero-shot/Few Shot\n",
        "* Flexible\n",
        "* Integrable\n",
        "\n",
        "**Desventajas**\n",
        "* Ambigüedad\n",
        "* Dependencia del contexto\n",
        "* Alucinaciones en LLMs\n",
        "* No interpretable\n",
        "\n",
        "\n",
        "**Ejemplo de Entidades:**\n",
        "\n",
        "Texto: \"Alberto compró 3 tenis por 5000 pesos el 27 de Junio en Dportenis.\"\n",
        "\n",
        "**Entidades NER:**\n",
        "```\n",
        "Alberto: NOMBRE / PERSONA\n",
        "Tenis: PRODUCTO\n",
        "3: CANTIDAD\n",
        "5000: CANTIDAD / DINERO\n",
        "pesos: MONEDA\n",
        "27 de Junio: FECHA\n",
        "Dportenis: TIENDA\n",
        "```\n",
        "\n",
        "Una vez identificadas, estas entidades pueden mapearse directamente a un objeto JSON:\n",
        "\n",
        "```\n",
        "{\n",
        "  \"nombre\": \"Alberto\",\n",
        "  \"producto\": \"tenis\",\n",
        "  \"cantidad\": 3,\n",
        "  \"precio_total\": 5000,\n",
        "  \"moneda\": \"pesos\",\n",
        "  \"fecha\": \"27 de Junio\",\n",
        "  \"tienda\": \"Dportenis\"\n",
        "}\n",
        "```"
      ],
      "metadata": {
        "id": "FLrfa4Z2Lbsa"
      }
    },
    {
      "cell_type": "code",
      "source": [
        "message = [\n",
        "        {\n",
        "            \"role\": \"user\",\n",
        "            \"content\": (\n",
        "                f\"\"\"\n",
        "               Extrae las entidades nombradas de este texto y clasifícalas como persona, producto, cantidad, cantidad / dinero, moneda, tienda:\n",
        "              {texto}\n",
        "              \"\"\"\n",
        "            )\n",
        "        }\n",
        "    ]\n",
        "\n",
        "response = client.chat.completions.create(\n",
        "  model=\"models/gemini-2.0-flash\",\n",
        "  messages=message)\n",
        "\n",
        "print(response.choices[0].message.content.strip())"
      ],
      "metadata": {
        "id": "hq_6ELipPV2-"
      },
      "execution_count": null,
      "outputs": []
    },
    {
      "cell_type": "markdown",
      "source": [
        "##**Extracción de Relaciones**\n",
        "La Extracción de Relaciones va un paso más allá de NER. No solo identifica entidades, sino que también determina las relaciones semánticas entre ellas. Es decir, cómo se conectan las entidades entre sí en el texto.\n",
        "\n",
        "**Ejemplo de Relaciones:**\n",
        "\n",
        "Texto: \"Alberto compró 3 tenis por 5000 pesos el 27 de Junio en Dportenis.\"\n",
        "\n",
        "**Relaciones:**\n",
        "```\n",
        "Alberto, compró, 3 tenis\n",
        "compró, por, 5000 pesos\n",
        "compró, el, 27 de Junio\n",
        "compró, en, Dportenis\n",
        "```\n",
        "\n",
        "Una vez identificadas, estas relaciones pueden mapearse directamente a un objeto JSON:\n",
        "\n",
        "```\n",
        "{\n",
        "  \"nombre\": \"Alberto\",\n",
        "  \"tienda\": \"Dportenis\"\n",
        "  \"compra: {\n",
        "    \"producto\": \"tenis\",\n",
        "    \"cantidad\": 3,\n",
        "    \"precio_total\": 5000,\n",
        "    \"moneda\": \"pesos\",\n",
        "    \"fecha\": \"27 de Junio\"\n",
        "  }\n",
        "}\n",
        "```"
      ],
      "metadata": {
        "id": "ivYzHgV6OAO5"
      }
    },
    {
      "cell_type": "code",
      "source": [
        "message = [\n",
        "        {\n",
        "            \"role\": \"user\",\n",
        "            \"content\": (\n",
        "                f\"\"\"\n",
        "               Extrae las relaciones de este texto:\n",
        "              {texto}\n",
        "              \"\"\"\n",
        "            )\n",
        "        }\n",
        "    ]\n",
        "\n",
        "response = client.chat.completions.create(\n",
        "  model=\"models/gemini-2.0-flash\",\n",
        "  messages=message)\n",
        "\n",
        "print(response.choices[0].message.content.strip())"
      ],
      "metadata": {
        "id": "zepL5MVAUVWC"
      },
      "execution_count": null,
      "outputs": []
    },
    {
      "cell_type": "markdown",
      "source": [
        "##**Prompting para Control Estructural**\n",
        "Esta es la técnica fundamental para guiar a los LLMs a generar JSON. Implica diseñar prompts que le digan al modelo exactamente qué estructura de JSON debe producir, incluyendo los nombres de las claves, los tipos de datos esperados para cada valor, y cualquier anidamiento."
      ],
      "metadata": {
        "id": "gK_5Ve4RUV1U"
      }
    },
    {
      "cell_type": "code",
      "source": [
        "message = [\n",
        "        {\n",
        "            \"role\": \"user\",\n",
        "            \"content\": (\n",
        "                f\"\"\"\n",
        "               Extrae la información del siguiente texto y devuélvela en formato JSON siguiendo la estructura indicada. Asegúrate de respetar los tipos de datos (número, cadena de texto, fecha):\n",
        "\n",
        "                Texto:\n",
        "                {texto}\n",
        "\n",
        "                Formato JSON esperado:\n",
        "                {{\n",
        "                  \"cliente\": \"string\",\n",
        "                  \"producto\": \"string\",\n",
        "                  \"cantidad\": \"number\",\n",
        "                  \"precio_total\": \"number\",\n",
        "                  \"moneda\": \"string\",\n",
        "                  \"fecha\": \"string (YYYY-MM-DD)\",\n",
        "                  \"lugar\": \"string\"\n",
        "                }}\n",
        "              \"\"\"\n",
        "            )\n",
        "        }\n",
        "    ]\n",
        "\n",
        "response = client.chat.completions.create(\n",
        "  model=\"models/gemini-2.0-flash\",\n",
        "  messages=message)\n",
        "\n",
        "print(response.choices[0].message.content.strip())"
      ],
      "metadata": {
        "id": "THeg5ywLINgC"
      },
      "execution_count": null,
      "outputs": []
    },
    {
      "cell_type": "markdown",
      "source": [
        "##**[JSON API](https://jsonapi.org/)**\n",
        "\n",
        "**JSON:API** es una especificación para construir APIs RESTful que utilizan JSON como formato de intercambio.\n",
        "Define reglas estrictas sobre cómo estructurar datos, cómo representar relaciones y cómo manejar errores, con el objetivo de garantizar consistencia, eficiencia y compatibilidad entre aplicaciones.\n",
        "\n",
        "Ejemplo:\n",
        "```\n",
        "{\n",
        "  \"data\": {\n",
        "    \"type\": \"productos\",\n",
        "    \"id\": \"001\",\n",
        "    \"attributes\": {\n",
        "      \"nombre\": \"tenis\",\n",
        "      \"precio\": 1500\n",
        "    }\n",
        "  }\n",
        "}\n",
        "```"
      ],
      "metadata": {
        "id": "92S6luXZrKUY"
      }
    },
    {
      "cell_type": "code",
      "source": [
        "message = [\n",
        "        {\n",
        "            \"role\": \"user\",\n",
        "            \"content\": (\n",
        "                f\"\"\"\n",
        "               Extrae la información del siguiente texto y devuélvela en formato JSON:API bien definido siguiendo la estructura indicada, incluye relationships e included.\n",
        "\n",
        "                Texto:\n",
        "                {texto}\n",
        "              \"\"\"\n",
        "            )\n",
        "        }\n",
        "    ]\n",
        "\n",
        "response = client.chat.completions.create(\n",
        "    model=\"gemini-2.0-flash\",\n",
        "    messages=message,\n",
        "    response_format={\n",
        "      \"type\": \"json_object\"\n",
        "    }\n",
        ")\n",
        "\n",
        "print(response.choices[0].message.content.strip())"
      ],
      "metadata": {
        "id": "QtKqL3FzkHUE"
      },
      "execution_count": null,
      "outputs": []
    },
    {
      "cell_type": "markdown",
      "source": [
        "## **json_mode**\n",
        "Se refiere a activar o forzar al modelo para que toda su salida sea parsable como JSON, sin texto adicional o errores de formato que impedirían su lectura por un programa.\n",
        "\n",
        "Hay varias maneras de lograr el json_mode:\n",
        "\n",
        "* Mediante un system prompt claro y explícito\n",
        "* Mediante el parámetro ***response_format***\n",
        "* Mediante el parámetro ***response_format*** + ***strict***\n",
        "* Mediante el parámetro ***json schema***"
      ],
      "metadata": {
        "id": "_1CCfRc3Z7Hc"
      }
    },
    {
      "cell_type": "markdown",
      "source": [
        "### **response_format=json**\n",
        "Es una de las maneras más robustas de asegurarte de que un LLM te devuelva datos estructurados."
      ],
      "metadata": {
        "id": "yTu6STuiT2vT"
      }
    },
    {
      "cell_type": "code",
      "source": [
        "\n",
        "message = [\n",
        "        {\n",
        "            \"role\": \"user\",\n",
        "            \"content\": (\n",
        "                f\"\"\"\n",
        "               Extrae la información del siguiente texto y devuélvela en formato JSON siguiendo la estructura indicada. Asegúrate de respetar los tipos de datos (número, cadena de texto, fecha):\n",
        "\n",
        "                Texto:\n",
        "                {texto}\n",
        "\n",
        "                Formato JSON esperado:\n",
        "                {{\n",
        "                  \"cliente\": \"string\",\n",
        "                  \"producto\": \"string\",\n",
        "                  \"cantidad\": \"number\",\n",
        "                  \"precio_total\": \"number\",\n",
        "                  \"moneda\": \"string\",\n",
        "                  \"fecha\": \"string (YYYY-MM-DD)\",\n",
        "                  \"lugar\": \"string\"\n",
        "                }}\n",
        "              \"\"\"\n",
        "            )\n",
        "        }\n",
        "    ]\n",
        "\n",
        "response = client.chat.completions.create(\n",
        "    model=\"gemini-2.0-flash\",\n",
        "    messages=message,\n",
        "    response_format={\n",
        "      \"type\": \"json_object\"\n",
        "    },\n",
        "    temperature=0.0\n",
        ")\n",
        "\n",
        "print(response.choices[0].message.content.strip())\n",
        "\n"
      ],
      "metadata": {
        "id": "jgeV_qsKT3OB"
      },
      "execution_count": null,
      "outputs": []
    },
    {
      "cell_type": "markdown",
      "source": [
        "### **Strict**\n",
        "\n",
        "**strict** es una opción que se puede activar cuando usas **response_format=\"json\"**.\n",
        "Obliga al modelo a responder con un JSON válido y exacto, sin explicaciones ni texto adicional. Esto garantiza que la salida sea parseable directamente, ideal para integraciones automáticas."
      ],
      "metadata": {
        "id": "roGgFoFq8q6P"
      }
    },
    {
      "cell_type": "markdown",
      "source": [
        "### **Schema**\n",
        "Schema es una especificación estándar que te permite describir y validar la estructura, el formato y las restricciones de cualquier documento JSON. Su propósito es asegurar que los datos JSON cumplen con un conjunto predefinido de reglas."
      ],
      "metadata": {
        "id": "CYXFxLdfA42x"
      }
    },
    {
      "cell_type": "code",
      "source": [
        "class DetallesProducto(BaseModel):\n",
        "    \"\"\"Detalles de un producto adquirido.\"\"\"\n",
        "    nombre: str = Field(\n",
        "        description=\"Nombre o descripción del producto adquirido (por ejemplo: 'tenis', 'calcetas').\"\n",
        "    )\n",
        "    cantidad: int = Field(\n",
        "        description=\"Cantidad de unidades de este producto.\"\n",
        "    )\n",
        "\n",
        "class InformacionCompra(BaseModel):\n",
        "    \"\"\"Información estructurada de una transacción de compra en Dportenis.\"\"\"\n",
        "    cliente: str = Field(\n",
        "        description=\"Nombre completo del cliente que realizó la compra.\"\n",
        "    )\n",
        "    productos: List[DetallesProducto] = Field(\n",
        "        description=\"Lista de productos individuales comprados.\"\n",
        "    )\n",
        "    precio_total: float = Field(\n",
        "        description=\"Precio total de la transacción.\"\n",
        "    )\n",
        "    moneda: Literal[\"MXN\", \"USD\", \"EUR\"] = Field(\n",
        "        description=\"Moneda de la transacción. Solo se permite 'MXN', 'USD' o 'EUR'.\"\n",
        "    )\n",
        "    fecha_compra: str = Field(\n",
        "        description=\"Fecha de la compra en formato AAAA-MM-DD (por ejemplo: 2024-06-27).\"\n",
        "    )\n",
        "    tienda: str = Field(\n",
        "        description=\"Sucursal o lugar de Dportenis donde se realizó la compra.\"\n",
        "    )\n",
        "\n",
        "\n",
        "message = [\n",
        "        {\n",
        "            \"role\": \"user\",\n",
        "            \"content\": (\n",
        "                f\"\"\"\n",
        "                 Texto de la compra: {texto}\n",
        "              \"\"\"\n",
        "            )\n",
        "        }\n",
        "    ]\n",
        "\n",
        "response = client.beta.chat.completions.parse(\n",
        "    model=\"gemini-2.0-flash\",\n",
        "    messages=message,\n",
        "    response_format=InformacionCompra,\n",
        "    temperature=0.0\n",
        ")\n",
        "\n",
        "print(response.choices[0].message.content.strip())\n"
      ],
      "metadata": {
        "id": "XUV7kbjBA5NK"
      },
      "execution_count": null,
      "outputs": []
    },
    {
      "cell_type": "markdown",
      "source": [
        "## **spaCy vs LLMs**\n",
        "\n"
      ],
      "metadata": {
        "id": "fSyaZjIHbU5F"
      }
    },
    {
      "cell_type": "markdown",
      "source": [
        "### **spaCy**\n",
        "\n",
        "**spaCy** es una librería de código abierto en Python para el procesamiento avanzado del lenguaje natural. Está diseñada para ser rápida, eficiente y lista para producción.\n",
        "\n",
        "**Características Clave**:\n",
        "* Modelos Pre-entrenados\n",
        "* Enfoque Supervisado\n",
        "* Eficiencia\n",
        "\n",
        "**Ventajas**:\n",
        "* Rendimiento y Velocidad\n",
        "* Costo\n",
        "* Control y Determinismo\n",
        "* Precisión en Dominio Específico\n",
        "* Localidad\n",
        "\n",
        "**Desventajas**:\n",
        "* Flexibilidad Limitada\n",
        "* Generalización Pobre\n",
        "* No Comprende Intenciones Complejas"
      ],
      "metadata": {
        "id": "LOK6aayjhlsv"
      }
    },
    {
      "cell_type": "code",
      "source": [
        "try:\n",
        "    nlp = spacy.load(\"es_core_news_sm\")\n",
        "except OSError:\n",
        "    spacy.cli.download(\"es_core_news_sm\")\n",
        "    nlp = spacy.load(\"es_core_news_sm\")\n",
        "\n",
        "doc = nlp(texto)\n",
        "\n",
        "compra_info = {\n",
        "    \"cliente\": None,\n",
        "    \"producto\": None,\n",
        "    \"cantidad\": None,\n",
        "    \"precio_total\": None,\n",
        "    \"moneda\": None,\n",
        "    \"fecha\": None,\n",
        "    \"lugar\": None\n",
        "}\n",
        "\n",
        "for ent in doc.ents:\n",
        "    if ent.label_ == \"PER\":\n",
        "        compra_info[\"cliente\"] = ent.text\n",
        "    elif ent.label_ == \"ORG\":\n",
        "        compra_info[\"lugar\"] = ent.text\n",
        "    elif ent.label_ in [\"LOC\", \"GPE\"]:\n",
        "        compra_info[\"lugar\"] = compra_info[\"lugar\"] or ent.text\n",
        "    elif ent.label_ == \"DATE\":\n",
        "        try:\n",
        "            compra_info[\"fecha\"] = datetime.strptime(ent.text.strip(), \"%d de %B\").replace(year=2024).strftime(\"%Y-%m-%d\")\n",
        "        except:\n",
        "            compra_info[\"fecha\"] = ent.text\n",
        "\n",
        "cantidad_match = re.search(r\"(\\d+)\\s+(\\w+)\", texto)\n",
        "if cantidad_match:\n",
        "    compra_info[\"cantidad\"] = int(cantidad_match.group(1))\n",
        "    compra_info[\"producto\"] = cantidad_match.group(2)\n",
        "\n",
        "precio_match = re.search(r\"(\\d+)\\s*(pesos|€|dólares|USD|EUR)?\", texto, re.IGNORECASE)\n",
        "if precio_match:\n",
        "    compra_info[\"precio_total\"] = int(precio_match.group(1))\n",
        "    if precio_match.group(2):\n",
        "        compra_info[\"moneda\"] = precio_match.group(2).lower()\n",
        "\n",
        "print(f\"Texto original: {texto}\\n\")\n",
        "print(\"JSON estructurado:\")\n",
        "print(json.dumps(compra_info, indent=2, ensure_ascii=False))\n"
      ],
      "metadata": {
        "id": "w7rKdTM6jIfm"
      },
      "execution_count": null,
      "outputs": []
    },
    {
      "cell_type": "markdown",
      "source": [
        "### **LLMs**\n",
        "\n",
        "Son modelos de redes neuronales masivamente grandes, pre-entrenados en cantidades gigantescas de texto de internet. Su fortaleza radica en su capacidad para entender, generar y razonar sobre el lenguaje natural de una manera muy flexible, a menudo con poca o ninguna \"instrucción\" específica.\n",
        "\n",
        "**Características Clave**:\n",
        "* Generativos\n",
        "* Pre-entrenados y Adaptables\n",
        "* Comprensión Contextual\n",
        "\n",
        "**Ventajas**:\n",
        "* Flexibilidad y Adaptabilidad\n",
        "* Extracción de Relaciones Complejas\n",
        "* Manejo de Variaciones Lingüísticas\n",
        "* JSON Directo\n",
        "\n",
        "**Desventajas**:\n",
        "* Costo\n",
        "* Latencia\n",
        "* \"Alucinaciones\"\n",
        "* Privacidad de Datos"
      ],
      "metadata": {
        "id": "tEAw1flulga9"
      }
    },
    {
      "cell_type": "code",
      "source": [
        "message = [\n",
        "        {\n",
        "            \"role\": \"user\",\n",
        "            \"content\": (\n",
        "                f\"\"\"\n",
        "               Extrae la información del siguiente texto y devuélvela en formato JSON válido con la siguiente estructura:\n",
        "                  {{\n",
        "                    \"cliente\": \"string\",\n",
        "                    \"producto\": \"string\",\n",
        "                    \"cantidad\": \"number\",\n",
        "                    \"precio_total\": \"number\",\n",
        "                    \"moneda\": \"string\",\n",
        "                    \"fecha\": \"string (YYYY-MM-DD)\",\n",
        "                    \"lugar\": \"string\"\n",
        "                  }}\n",
        "                  Texto:\n",
        "                  {texto}\n",
        "              \"\"\"\n",
        "            )\n",
        "        }\n",
        "    ]\n",
        "\n",
        "response = client.chat.completions.create(\n",
        "    model=\"gemini-2.0-flash\",\n",
        "    messages=message,\n",
        "    response_format={\n",
        "      \"type\": \"json_object\"\n",
        "    },\n",
        ")\n",
        "\n",
        "print(response.choices[0].message.content.strip())"
      ],
      "metadata": {
        "id": "USX4zaL1skQn"
      },
      "execution_count": null,
      "outputs": []
    },
    {
      "cell_type": "markdown",
      "source": [
        "## **Ejercicio 03**\n",
        "\n",
        "Analiza el siguiente texto y con el ejercicio de ejemplo de LLMs (visto previamente) genera una salida estructurada tipo JSON utilizando la estructura de tu preferencia:\n",
        "\n",
        "Texto: Mariana Torres realizó 2 compras en diferentes sucursales de Dportenis durante el mes de mayo de 2024.\n",
        "\n",
        "Su primera compra fue el 2 de mayo en la sucursal de Guadalajara, donde adquirió:\n",
        "* 1 par de tenis Adidas Ultraboost por $4200 pesos\n",
        "\n",
        "* 1 camiseta Dry-Fit por $850 pesos\n",
        "\n",
        "Pagó con tarjeta de crédito y utilizó el cupón DPORT20, que le dio un 20% de descuento en el segundo artículo.\n",
        "El número de orden fue 001245, y recibió el correo de confirmación en mariana.torres@example.com. Eligió envío estándar (5-7 días).\n",
        "\n",
        "El 10 de mayo, Mariana visitó la sucursal de Monterrey, donde compró:\n",
        "* 2 pares de calcetas Nike por $600 pesos\n",
        "\n",
        "* 1 mochila Puma por $1200 pesos\n",
        "\n",
        "Esta compra la realizó en efectivo. No utilizó cupón. El número de orden fue 001322 y solicitó recolección en tienda."
      ],
      "metadata": {
        "id": "ptuamIURuEsm"
      }
    },
    {
      "cell_type": "code",
      "source": [
        "texto = \"Mariana Torres realizó 2 compras en diferentes sucursales de Dportenis durante el mes de mayo de 2024. Su primera compra fue el 2 de mayo en la sucursal de Guadalajara, donde adquirió: 1 par de tenis Adidas Ultraboost por $4200 pesos, 1 camiseta Dry-Fit por $850 pesos. Pagó con tarjeta de crédito y utilizó el cupón DPORT20, que le dio un 20% de descuento en el segundo artículo. El número de orden fue 001245, y recibió el correo de confirmación en mariana.torres@example.com. Eligió envío estándar (5-7 días). El 10 de mayo, Mariana visitó la sucursal de Monterrey, donde compró: 2 pares de calcetas Nike por $600 pesos, 1 mochila Puma por $1200 pesos. Esta compra la realizó en efectivo. No utilizó cupón. El número de orden fue 001322 y solicitó recolección en tienda.\"\n",
        "\n",
        "message = [\n",
        "\n",
        "    ]\n",
        "\n",
        "response = client.chat.completions.create(\n",
        "    model=\"gemini-2.0-flash\",\n",
        "    messages=message,\n",
        ")\n",
        "\n",
        "print(response.choices[0].message.content.strip())"
      ],
      "metadata": {
        "id": "MHJ7OtBMv09o"
      },
      "execution_count": null,
      "outputs": []
    }
  ]
}